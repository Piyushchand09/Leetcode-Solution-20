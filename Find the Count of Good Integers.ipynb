{
 "cells": [
  {
   "cell_type": "code",
   "execution_count": null,
   "id": "bd299bf3",
   "metadata": {
    "vscode": {
     "languageId": "plaintext"
    }
   },
   "outputs": [],
   "source": [
    "# Find the Count of Good Integers\n",
    "class Solution:\n",
    "    def countGoodIntegers(self, n: int, k: int) -> int:\n",
    "        if n == 1:\n",
    "            total = 0\n",
    "            for i in range(1, 10):\n",
    "                if i % k == 0:\n",
    "                    total += 1\n",
    "            return total\n",
    "\n",
    "        fact = [1]\n",
    "        for i in range(1, n + 1):\n",
    "            fact.append(fact[-1] * i)\n",
    "        \n",
    "        seen = set()\n",
    "        ans = 0\n",
    "        for left in range(10 ** ((n - 1) // 2), 10 ** ((n + 1) //2)):\n",
    "            l = str(left)\n",
    "            r = l[::-1]\n",
    "            if n % 2 == 1:\n",
    "                r = r[1:]\n",
    "            t = l + r\n",
    "           \n",
    "            if int(t) % k != 0:\n",
    "                continue\n",
    "\n",
    "            s = \"\".join(sorted(list(t)))\n",
    "            if s in seen:\n",
    "                continue\n",
    "            seen.add(s)\n",
    "\n",
    "            count = Counter(t)\n",
    "\n",
    "            total = fact[n]\n",
    "            for key in count.keys():\n",
    "                total //= fact[count[key]]\n",
    "\n",
    "            ans += total\n",
    "            \n",
    "            \n",
    "            if count[\"0\"] >= 1:\n",
    "                total_non_zero = fact[n - 1]\n",
    "                count[\"0\"] -= 1\n",
    "                for key in count.keys():\n",
    "                    total_non_zero //= fact[count[key]]\n",
    "                ans -= total_non_zero\n",
    "\n",
    "       \n",
    "\n",
    "        return ans"
   ]
  }
 ],
 "metadata": {
  "kernelspec": {
   "display_name": "Python 3 (ipykernel)",
   "language": "python",
   "name": "python3"
  },
  "language_info": {
   "codemirror_mode": {
    "name": "ipython",
    "version": 3
   },
   "file_extension": ".py",
   "mimetype": "text/x-python",
   "name": "python",
   "nbconvert_exporter": "python",
   "pygments_lexer": "ipython3",
   "version": "3.12.4"
  }
 },
 "nbformat": 4,
 "nbformat_minor": 5
}
